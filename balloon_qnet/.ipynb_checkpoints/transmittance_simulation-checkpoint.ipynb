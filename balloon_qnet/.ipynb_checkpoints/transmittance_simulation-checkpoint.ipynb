{
 "cells": [
  {
   "cell_type": "code",
   "execution_count": 1,
   "id": "2d2308d0-a966-4913-8134-217c92dca148",
   "metadata": {},
   "outputs": [],
   "source": [
    "import sys\n",
    "import argparse\n",
    "\n",
    "parser = argparse.ArgumentParser()\n",
    "parser.add_argument(\"-z1\", type=float, default=0.02)\n",
    "parser.add_argument(\"-z2\", type=float, default=38)\n",
    "# ... other arguments ...\n",
    "\n",
    "# Use this instead of parser.parse_args()\n",
    "if \"ipykernel\" in sys.modules:\n",
    "    args = parser.parse_args(args=[])  # ignore Jupyter extra arguments\n",
    "else:\n",
    "    args = parser.parse_args()"
   ]
  },
  {
   "cell_type": "code",
   "execution_count": 2,
   "id": "8f863eb7-c1e8-45c5-9720-e2591491199d",
   "metadata": {},
   "outputs": [
    {
     "name": "stderr",
     "output_type": "stream",
     "text": [
      "/home/mehdi/anaconda3/lib/python3.12/site-packages/numpy/core/fromnumeric.py:88: RuntimeWarning: overflow encountered in reduce\n",
      "  return ufunc.reduce(obj, axis, dtype, out, **passkwargs)\n"
     ]
    },
    {
     "name": "stdout",
     "output_type": "stream",
     "text": [
      "Theoretical mean efficiency: 0.27351061073357813\n",
      "Simulated mean efficiency: 0.3219277\n"
     ]
    },
    {
     "name": "stderr",
     "output_type": "stream",
     "text": [
      "usage: ipykernel_launcher.py [-h] [-z1 OBSALT1] [-z2 OBSALT2] [-a ZENANG]\n",
      "                             [-i IHAZE] [-s SHORT] [-l LONG] [-step STEP]\n",
      "ipykernel_launcher.py: error: unrecognized arguments: -f /home/mehdi/.local/share/jupyter/runtime/kernel-f6f66515-2f24-4db2-9db3-55e4a83fa8b2.json\n"
     ]
    },
    {
     "ename": "SystemExit",
     "evalue": "2",
     "output_type": "error",
     "traceback": [
      "An exception has occurred, use %tb to see the full traceback.\n",
      "\u001b[0;31mSystemExit\u001b[0m\u001b[0;31m:\u001b[0m 2\n"
     ]
    },
    {
     "name": "stderr",
     "output_type": "stream",
     "text": [
      "/home/mehdi/anaconda3/lib/python3.12/site-packages/IPython/core/interactiveshell.py:3585: UserWarning: To exit: use 'exit', 'quit', or Ctrl-D.\n",
      "  warn(\"To exit: use 'exit', 'quit', or Ctrl-D.\", stacklevel=1)\n"
     ]
    }
   ],
   "source": [
    "%run ~/HAP-QKD/balloon_qnet/transmittance_simulation.py\n",
    "\n",
    "# Now the function is available\n",
    "print(theo, simu)"
   ]
  },
  {
   "cell_type": "code",
   "execution_count": null,
   "id": "16a548ab-592b-4e25-8405-f48548f2268e",
   "metadata": {},
   "outputs": [],
   "source": []
  }
 ],
 "metadata": {
  "kernelspec": {
   "display_name": "Python 3 (ipykernel)",
   "language": "python",
   "name": "python3"
  },
  "language_info": {
   "codemirror_mode": {
    "name": "ipython",
    "version": 3
   },
   "file_extension": ".py",
   "mimetype": "text/x-python",
   "name": "python",
   "nbconvert_exporter": "python",
   "pygments_lexer": "ipython3",
   "version": "3.12.4"
  }
 },
 "nbformat": 4,
 "nbformat_minor": 5
}
