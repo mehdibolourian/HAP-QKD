{
 "cells": [
  {
   "cell_type": "code",
   "execution_count": 2,
   "id": "8f863eb7-c1e8-45c5-9720-e2591491199d",
   "metadata": {},
   "outputs": [
    {
     "name": "stderr",
     "output_type": "stream",
     "text": [
      "/home/mehdi/anaconda3/lib/python3.12/site-packages/numpy/core/fromnumeric.py:88: RuntimeWarning: overflow encountered in reduce\n",
      "  return ufunc.reduce(obj, axis, dtype, out, **passkwargs)\n"
     ]
    },
    {
     "name": "stdout",
     "output_type": "stream",
     "text": [
      "Theoretical mean efficiency: 0.27351061073357813\n",
      "Simulated mean efficiency: 0.3217646\n",
      "0.27351061073357813 0.3217646\n"
     ]
    }
   ],
   "source": [
    "%run ~/HAP-QKD/balloon_qnet/transmittance_simulation.py\n",
    "\n",
    "# Now the function is available\n",
    "print(theo, simu)"
   ]
  },
  {
   "cell_type": "code",
   "execution_count": null,
   "id": "16a548ab-592b-4e25-8405-f48548f2268e",
   "metadata": {},
   "outputs": [],
   "source": []
  }
 ],
 "metadata": {
  "kernelspec": {
   "display_name": "Python 3 (ipykernel)",
   "language": "python",
   "name": "python3"
  },
  "language_info": {
   "codemirror_mode": {
    "name": "ipython",
    "version": 3
   },
   "file_extension": ".py",
   "mimetype": "text/x-python",
   "name": "python",
   "nbconvert_exporter": "python",
   "pygments_lexer": "ipython3",
   "version": "3.12.4"
  }
 },
 "nbformat": 4,
 "nbformat_minor": 5
}
